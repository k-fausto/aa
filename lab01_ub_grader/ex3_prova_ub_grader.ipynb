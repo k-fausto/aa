{
 "cells": [
  {
   "cell_type": "markdown",
   "metadata": {
    "tags": []
   },
   "source": [
    "<div style=\"padding:30px; color: white; background-color: #0071CD\">\n",
    "<center>\n",
    "<img src=\"img/logoub.jpeg\"></img>\n",
    "<center>\n",
    "<h1>Algorísmica Avançada</h1>\n",
    "<h2>Pràctica 1 - Exploració: Grafs, DFS, BFS, Dijkstra</h2>\n",
    "</center>\n",
    "</div>"
   ]
  },
  {
   "cell_type": "code",
   "execution_count": 61,
   "metadata": {},
   "outputs": [
    {
     "data": {
      "text/html": [
       "<style>.container { width:100% !important; }</style>"
      ],
      "text/plain": [
       "<IPython.core.display.HTML object>"
      ]
     },
     "metadata": {},
     "output_type": "display_data"
    }
   ],
   "source": [
    "from IPython.display import display, HTML\n",
    "display(HTML(\"<style>.container { width:100% !important; }</style>\"))"
   ]
  },
  {
   "cell_type": "markdown",
   "metadata": {},
   "source": [
    "<div class=\"alert alert-info\">\n",
    "<h2>Avís general per a les Pràctiques de Laboratori</h2>\n",
    "\n",
    "És molt important <b>comentar tot el vostre codi</b>. Comentar el codi no només facilita a altres persones que el llegeixin la compressió del que esteu fent, sinó també a vosaltres mateixos durant el procés de disseny i implementació. D'aquesta forma podreu entendre el vostre propi codi encara que faci molt temps que no el consulteu. A més, a l'hora de ser corregits, un codi comentat s'entén molt millor, la qual cosa ajuda a traslladar al professor les idees que teníeu a l'intentar implementar-lo i encara més en el cas que no ho hagueu pogut acabar-ho amb èxit. No cal comentar cada línia, però si el que fa cada part.\n",
    "\n",
    "En segon lloc, és molt important <b>respectar les capçaleres de les funcions i estructura de la funció ```return```</b> que s'indiquin a l'enunciat. Tot i que llegim i corregim els vostres codis en detall, fem servir correctors automàtics per guiar i agilitzar el procés i saber quines solucións funcionen i quines no ja d'entrada. \n",
    "\n",
    "Axí doncs, si es demana que la funció tingui la següent estructura: \n",
    "\n",
    "```python\n",
    "def exercici1(param1, param2):\n",
    "    # implementació de la solució\n",
    "    return resultat \n",
    "```\n",
    "\n",
    "És important que en el notebook existeixi aquesta funció i que no canvieu el nom dels paràmetres ni el tipus de dada retornada.\n",
    "    \n",
    "</div>\n",
    "\n",
    "\n"
   ]
  },
  {
   "cell_type": "code",
   "execution_count": 62,
   "metadata": {},
   "outputs": [],
   "source": [
    "from matplotlib import pyplot as plt\n",
    "import networkx as nx\n",
    "from maze import *\n",
    "import heapq as hq\n",
    "import numpy as np"
   ]
  },
  {
   "cell_type": "markdown",
   "metadata": {},
   "source": [
    "<div class=\"alert alert-success\">\n",
    "<h1>Problema 3: Checkpoint (2,5p)</h1>\n",
    "<p>\n",
    "    Implementeu una funció anomenada <b>checkpoint()</b> que, donat un graf, un node origen, un node destí i un node extra, trobi el camí més curt des del node origen fins el node destí passant pel node extra. Com en l'exercici anterior, tindrem un diccionari de punts on aplicarem una penalització.<br>\n",
    "</p>    \n",
    "    \n",
    "</div>"
   ]
  },
  {
   "cell_type": "code",
   "execution_count": 63,
   "metadata": {},
   "outputs": [],
   "source": [
    "def bfs(G, origin):\n",
    "    \"\"\"\n",
    "    Params\n",
    "    ======    \n",
    "    :G: Graf. Ha de ser un objecte de la classe nx.Graph\n",
    "    :origin: Índex del node orígen\n",
    "    \n",
    "    Returns\n",
    "    =======\n",
    "    :visited: El conjunt de nodes visitats durant l'exploració BFS en l'ordre en que han estat explorats\n",
    "    \"\"\"\n",
    "    visited = []\n",
    "\n",
    "    # Comenzamos en el nodo origen y lo añadimos a la cola.\n",
    "    queue = [origin]\n",
    "\n",
    "    while queue:\n",
    "\n",
    "        # Tomamos el primer elemento de la cola.\n",
    "        current = queue.pop(0)\n",
    "\n",
    "        # Si no lo hemos visitado, lo añadimos a la lista de visitados.\n",
    "        # Luego, añadimos todos sus vecinos a la cola y continuamos.\n",
    "        if current not in visited:\n",
    "\n",
    "            visited.append(current)\n",
    "\n",
    "            for nei in G.neighbors(current):\n",
    "                queue.append(nei)\n",
    "    \n",
    "    return visited\n",
    "\n",
    "'''\n",
    "    Función auxiliar que funciona exactamente igual a holes, pero devuelve cost_to en vez de el coste y camino.\n",
    "'''\n",
    "\n",
    "def holes_aux(G, origin, holes_dct={}):\n",
    "    \"\"\"\n",
    "    Params\n",
    "    ======\n",
    "    :G: Graf del qual en volem extreure el camí mínim. Ha de ser un objecte de la classe nx.Graph\n",
    "    :origin: Índex del node orígen\n",
    "    :holes_dct: Un diccionari del tipus {node: penalització}. Passar per cada node del diccionari té un cost diferent a 1.\n",
    "    \n",
    "    Returns\n",
    "    =======\n",
    "    :cost_to: Lista de distancias desde el nodo origen hasta el resto.\n",
    "    \"\"\"\n",
    "\n",
    "    cost_to = {}\n",
    "    visited = set()\n",
    "    \n",
    "    for node in G.nodes():\n",
    "        cost_to[node] = (None, np.inf) # Seguiré la estructura de cost_to[current] = (previous, cost)\n",
    "        \n",
    "    cost_to[origin] = (None, 0) #Puesto que comenzamos en el nodo de origen, no tiene previo y su coste es cero.\n",
    "\n",
    "    # Creemos ahora el heap.\n",
    "    heap = []\n",
    "    hq.heapify(heap)\n",
    "    hq.heappush(heap, (0, origin)) # Para que el heap pueda ordenar en base al coste, seguiré la estructura (coste, current).\n",
    "\n",
    "    # Y utilicemos el heap para explorar todo el grafo con costes mínimos.\n",
    "    while heap:\n",
    "        current_cost, current_node = hq.heappop(heap) # Obtengo el siguiente camino de coste menor.\n",
    "\n",
    "        if current_node in visited:\n",
    "            continue\n",
    "\n",
    "        visited.add(current_node)\n",
    "\n",
    "        for nei in G.neighbors(current_node):\n",
    "\n",
    "            if nei in visited:\n",
    "                continue\n",
    "\n",
    "            \n",
    "            weight = 1 if nei not in holes_dct else holes_dct[nei] # Si es un nodo con penalización, añadimos su penalización.\n",
    "            alternative_path = current_cost + weight\n",
    "\n",
    "            if alternative_path < cost_to[nei][1]:\n",
    "                cost_to[nei] = (current_node, alternative_path)\n",
    "                hq.heappush(heap, (alternative_path, nei))\n",
    "\n",
    "    # Al vaciar el heap, tendremos el diccionario cost_to con todos los costes a todos los nodos. Solo queda reconstruir el camino.\n",
    "\n",
    "    return cost_to\n",
    "\n",
    "def checkpoint(G, origin, destination, extra, holes_dct={}):\n",
    "    \"\"\"\n",
    "    Params\n",
    "    ======\n",
    "    :G: Graf del qual en volem extreure el camí mínim. Ha de ser un objecte de la classe nx.Graph\n",
    "    :origin: Índex del node orígen\n",
    "    :destination: Índex del node destí\n",
    "    :extra: Índex d'un node extra per on ha de passar el camí\n",
    "    :holes_dct: Un diccionari del tipus {node: penalització}. Passar per cada node del diccionari té un cost diferent a 1.\n",
    "    \n",
    "    Returns\n",
    "    =======\n",
    "    :path: Una llista de nodes del camí més curt entre els nodes 'origin' i 'destination' que passa per 'extra'.\n",
    "    :cost: Un enter amb el cost de recórrer el camí, incloent-hi les penalitzacions.\n",
    "    \"\"\"\n",
    "    path = []\n",
    "    cost = 0\n",
    "\n",
    "    # Comprobemos que sea posible hacer un camino desde origin hasta destination.\n",
    "    if destination not in bfs(G, origin):\n",
    "        return [], -1\n",
    "    \n",
    "    # Obtenemos el diccionario con todos los costes desde extra. Este diccionario tiene a su vez la distancia mínima hasta origen\n",
    "    # y la distancia mínima hasta destination, así como la información para construir el camino.\n",
    "    # Esto es mejor que llamar dos holes.\n",
    "    cost_to = holes_aux(G, extra, holes_dct)\n",
    "\n",
    "    # Creemos el camino desde origen hasta extra.\n",
    "    path_from_origin_to_extra = []\n",
    "    cost_from_origin_to_extra = cost_to[origin][1]\n",
    "    \n",
    "    # Empezamos el origin, calculamos su previo, vemos el previo del previo...\n",
    "    # Así hasta llegar a extra. Donde habremos creado el camino hasta extra en orden.\n",
    "    pointer_to_node = origin\n",
    "    while pointer_to_node != extra:\n",
    "        path_from_origin_to_extra.append(pointer_to_node)\n",
    "        pointer_to_node = cost_to[pointer_to_node][0]\n",
    "\n",
    "\n",
    "    # camino desde extra hasta destination.\n",
    "    path_from_extra_to_destination = []\n",
    "    cost_from_extra_to_destination = cost_to[destination][1]\n",
    "    pointer_to_node = destination\n",
    "    while pointer_to_node != extra:\n",
    "        pointer_to_node = cost_to[pointer_to_node][0]\n",
    "        path_from_extra_to_destination.append(pointer_to_node)\n",
    "    \n",
    "    #La diferencia es que en este caso, los elementos se añaden en orden inverso y por tanto tenemos que arreglarlo.\n",
    "    path_from_extra_to_destination.reverse()\n",
    "    \n",
    "    path = path_from_origin_to_extra + path_from_extra_to_destination # Sumamos los dos caminos.\n",
    "    cost = cost_from_origin_to_extra + cost_from_extra_to_destination # Sumamos los costos.\n",
    "    \n",
    "    path.append(destination)\n",
    "\n",
    "    return path, cost"
   ]
  },
  {
   "cell_type": "markdown",
   "metadata": {},
   "source": [
    "<div class=\"alert alert-info\">\n",
    "<center>\n",
    "  <h1>Entrega</h1>\n",
    "</center>\n",
    "\n",
    "L'entrega de la prova de pràctica es farà amb el mòdul de <b>ub-grader</b>. Per instal·lar-lo feu servir la següent comanda a terminal:\n",
    "\n",
    "```\n",
    "python pip install ub-grader --upgrade\n",
    "```\n",
    "\n",
    "O una cel·la del notebook amb:\n",
    "\n",
    "```\n",
    "!pip install ub-grader --upgrade\n",
    "```\n",
    "<br>\n",
    "\n",
    "Després, a la cel·la següent canvieu els niubs i noms pels vostres. Executeu-la per generar el vostre report del problema. En aquest cas mostrem quins són els inputs de la funció als tests, però això no passarà al dia del examen. Finalment, el report es generarà al directori d'aquest notebook amb nom ```report_Membre1_Membre2_ex3.enc```, pugeu aquest fitxer al campus virtual una vegada acabada la prova.\n",
    "\n",
    "És imprescindible que respecteu el format de les funcions i que el vostre codi estigui degudament comentat.<br><br>\n",
    "\n",
    "</div>"
   ]
  },
  {
   "cell_type": "code",
   "execution_count": 64,
   "metadata": {},
   "outputs": [
    {
     "name": "stdout",
     "output_type": "stream",
     "text": [
      "Requirement already satisfied: ub-grader in c:\\users\\karim\\anaconda3\\envs\\aa\\lib\\site-packages (0.3.5)\n",
      "Requirement already satisfied: cryptography>=42.0.0 in c:\\users\\karim\\anaconda3\\envs\\aa\\lib\\site-packages (from ub-grader) (46.0.2)\n",
      "Requirement already satisfied: cffi>=2.0.0 in c:\\users\\karim\\anaconda3\\envs\\aa\\lib\\site-packages (from cryptography>=42.0.0->ub-grader) (2.0.0)\n",
      "Requirement already satisfied: pycparser in c:\\users\\karim\\anaconda3\\envs\\aa\\lib\\site-packages (from cffi>=2.0.0->cryptography>=42.0.0->ub-grader) (2.23)\n"
     ]
    }
   ],
   "source": [
    "!pip install ub-grader --upgrade"
   ]
  },
  {
   "cell_type": "code",
   "execution_count": 65,
   "metadata": {},
   "outputs": [
    {
     "name": "stdout",
     "output_type": "stream",
     "text": [
      "[TEST t1] Input [6, 6, 17, 30, 35, 8, {}]\n",
      "[TEST t2] Input [6, 6, 17, 30, 35, 8, {'13': 3, '28': 5}]\n",
      "[TEST t3] Input [6, 6, 17, 30, 35, 8, {'13': 10, '28': 20}]\n",
      "Grade: 10.0 / 10.0\n"
     ]
    }
   ],
   "source": [
    "from ub_grader import init_students, load_spec, grade\n",
    "\n",
    "# Funció wrapper pel exercici\n",
    "def wrapper_ex3(n,m,seed,A,B,E,H):\n",
    "    H = {int(k) : v for k, v in H.items()}\n",
    "    maze = Maze(n, m, seed=seed)\n",
    "    G = maze.maze_graph()\n",
    "    path, cost = checkpoint(G, A, B, E, H)\n",
    "    cost += 1\n",
    "    return {\n",
    "        \"cost\" : cost,\n",
    "        \"path\" : path\n",
    "    }\n",
    "\n",
    "init_students([\n",
    "    {\"niub\": \"20921854\", \"nombre\": \"KARIM\", \"apellidos\": \"BOUJANA MARCUCCI\"},\n",
    "    {\"niub\": \"22303610\", \"nombre\": \"BESAY\", \"apellidos\": \"DÍAZ RIBAS\"}\n",
    "])\n",
    "\n",
    "\n",
    "load_spec(r\"file:///./specs/ex3.json\")\n",
    "\n",
    "result = grade(\n",
    "    wrapper_ex3,\n",
    "    signing_key_path=None,  # Path to Ed25519 private key if signing\n",
    ")"
   ]
  }
 ],
 "metadata": {
  "kernelspec": {
   "display_name": "aa",
   "language": "python",
   "name": "python3"
  },
  "language_info": {
   "codemirror_mode": {
    "name": "ipython",
    "version": 3
   },
   "file_extension": ".py",
   "mimetype": "text/x-python",
   "name": "python",
   "nbconvert_exporter": "python",
   "pygments_lexer": "ipython3",
   "version": "3.13.7"
  }
 },
 "nbformat": 4,
 "nbformat_minor": 4
}
