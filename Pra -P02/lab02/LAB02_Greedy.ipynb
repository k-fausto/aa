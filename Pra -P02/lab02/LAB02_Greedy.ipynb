{
 "cells": [
  {
   "cell_type": "markdown",
   "metadata": {},
   "source": [
    "<div style=\"padding:30px; color: white; background-color: #0071CD\">\n",
    "<center>\n",
    "<img src=\"img/logoub.jpeg\"></img>\n",
    "<center>\n",
    "<h1>Algorísmica Avançada</h1>\n",
    "<h2>Pràctica 2 - Greedy</h2>\n",
    "</center>\n",
    "</div>"
   ]
  },
  {
   "cell_type": "code",
   "execution_count": 1,
   "metadata": {},
   "outputs": [
    {
     "data": {
      "text/html": [
       "<style>.container { width:100% !important; }</style>"
      ],
      "text/plain": [
       "<IPython.core.display.HTML object>"
      ]
     },
     "metadata": {},
     "output_type": "display_data"
    }
   ],
   "source": [
    "from IPython.display import display, HTML\n",
    "display(HTML(\"<style>.container { width:100% !important; }</style>\"))"
   ]
  },
  {
   "cell_type": "markdown",
   "metadata": {},
   "source": [
    "<div class=\"alert alert-info\">\n",
    "<h2>Avís general per a les Pràctiques de Laboratori</h2>\n",
    "\n",
    "És molt important <b>comentar tot el vostre codi</b>. Comentar el codi no només facilita a altres persones que el llegeixin la compressió del que esteu fent, sinó també a vosaltres mateixos durant el procés de disseny i implementació. D'aquesta forma podreu entendre el vostre propi codi encara que faci molt temps que no el consulteu. A més, a l'hora de ser corregits, un codi comentat s'entén molt millor, la qual cosa ajuda a traslladar al professor les idees que teníeu a l'intentar implementar-lo i encara més en el cas que no ho hagueu pogut acabar-ho amb èxit. No cal comentar cada línia, però si el que fa cada part.\n",
    "\n",
    "En segon lloc, és molt important <b>respectar les capçaleres de les funcions i estructura de la funció ```return```</b> que s'indiquin a l'enunciat. Tot i que llegim i corregim els vostres codis en detall, fem servir correctors automàtics per guiar i agilitzar el procés i saber quines solucións funcionen i quines no ja d'entrada. \n",
    "\n",
    "Axí doncs, si es demana que la funció tingui la següent estructura: \n",
    "\n",
    "```python\n",
    "def exercici1(param1, param2):\n",
    "    # implementació de la solució\n",
    "    return resultat \n",
    "```\n",
    "\n",
    "És important que en el notebook existeixi aquesta funció i que no canvieu el nom dels paràmetres ni el tipus de dada retornada.\n",
    "    \n",
    "</div>\n",
    "\n",
    "\n"
   ]
  },
  {
   "cell_type": "markdown",
   "metadata": {},
   "source": [
    "<div class=\"alert alert-success\">\n",
    "    <h1>Problema 1: Repostatge de vehicles (No òptim) (3p)</h1>\n",
    "    <p>\n",
    "       Hem de fer un trajecte des d’un punt d’origen $S$ fins a un destí $D$. El dipòsit del cotxe permet recórrer un màxim de $K$ quilòmetres. A més, al llarg del trajecte, trobem un conjunt de benzineres $B_1,\\dots,B_n$. Cada benziera té la benzina a un preu diferent que podem notar com $p_{B_i},\\ \\ \\forall i=1,\\dots,n$. Implementeu l'algorisme greedy descrit a continuació per anar des de $S$ fins a $D$.<br><br>\n",
    "       Implementeu un algorisme greedy que, donat $K$, una llista de distàncies entre l'orígen i les benzineres on l'últim element és el destí, i una llista  de preus de benzina, retorni el nombre de cops que haurem de parar a repostar i el preu total del trajecte.<br><br>\n",
    "       Per exemple, si tenim un cotxe que pot fer 10km sense repostar, el destí està a 30km i tenim benzineres als punts: 8, 14, 16, 18, 23, 27 amb preus 0.9, 1.2, 0.6, 1.2, 2.1, 1.7 respectivament, podem executar:<br><br><center><b>refill_prices(10, [8, 14, 16, 18, 23, 27, 30], [0.9, 1.2, 0.6, 1.2, 2.1, 1.7])</center><br> i ens haurà de retornar quatre valors:\n",
    "        <ul>\n",
    "            <li> <b>True/False</b> depenent de si existeix, o no, una solució al problema.\n",
    "            <li> <b>Nombre de benzineres on hem de fer parada.</b> En cas que no existeixi solució, retornarà el nombre de benzineres que hem visitat abans d'exhaurir el carburant.\n",
    "            <li> <b>Llista dels quilòmetres que formen part de la solució.</b>\n",
    "            <li> <b>Cost total del trajecte. </b>\n",
    "        </ul></b><b></b>\n",
    "    </p>    \n",
    "    Seguiu el següent esquema a l'hora de programar la vostra solució:<br>\n",
    "    <ol>\n",
    "        <li> Ens movem fins la benzinera de més baix cost a la que podem arribar.\n",
    "        <li> Omplim el dipòsit al màxim.\n",
    "        <li> Busquem la propera benzinera a la que podem arribar amb el cost més baix.\n",
    "        <li> Tornem al punt 1.\n",
    "    </ol>\n",
    "    \n",
    "</div>"
   ]
  },
  {
   "cell_type": "code",
   "execution_count": 5,
   "metadata": {},
   "outputs": [],
   "source": [
    "import numpy as np  \n",
    "\n",
    "def refill_prices(K, stations, prices):\n",
    "    \"\"\"\n",
    "    Repostatge no òptim de vehicles amb costos.\n",
    "    \n",
    "    Params\n",
    "    ======\n",
    "    :K: dipòsit del vehicle\n",
    "    :stations: llista de benzineres. L'últim element és el destí.\n",
    "    :prices: Llista de preus. Té un element menys que 'stations'.\n",
    "    \n",
    "    Returns\n",
    "    =======\n",
    "    :exists: Booleà True/False depenent de si existeix o no solució al problema.\n",
    "    :num_stops: Número de benzineres a les que hem de parar.\n",
    "    :stops: Quilòmetres de les benzineres on fem parada.\n",
    "    :value: Cost del trajecte.\n",
    "    \"\"\"\n",
    "    \n",
    "    exists = False    \n",
    "    stops = []\n",
    "    num_stops = len(stops)\n",
    "    value = 0.0\n",
    "\n",
    "    # Inicializamos variables.\n",
    "    actual = 0\n",
    "    gas = K\n",
    "\n",
    "    # Creamos un diccionario porque sentimos que tiene que haberlo.\n",
    "    cost_of = dict(zip(stations, prices))\n",
    "    print(cost_of)\n",
    "\n",
    "    i = 0\n",
    "    reachable = []\n",
    "\n",
    "    while not exists:\n",
    "            \n",
    "        while actual + gas >= stations[i] and i < len(stations)-1:\n",
    "            \n",
    "            reachable.append(stations[i])\n",
    "            i += 1\n",
    "\n",
    "        if reachable:\n",
    "            minim_cost = (np.inf, None)\n",
    "            for stat in reachable:\n",
    "                if minim_cost[0] > cost_of[stat]: minim_cost = (cost_of[stat], stat)\n",
    "\n",
    "            value += minim_cost[0]*K\n",
    "            stops.append(minim_cost[1])\n",
    "            actual = minim_cost[1]\n",
    "            i = stations.index(actual)+1\n",
    "            reachable = []\n",
    "\n",
    "            if actual + gas >= stations[-1]:\n",
    "                exists = True\n",
    "                stops.append(stations[-1])\n",
    "            \n",
    "        else:\n",
    "            break\n",
    "            \n",
    "    num_stops = len(stops)\n",
    "    return exists, num_stops, stops, value"
   ]
  },
  {
   "cell_type": "code",
   "execution_count": 3,
   "metadata": {},
   "outputs": [
    {
     "name": "stdout",
     "output_type": "stream",
     "text": [
      "{10: 0.5, 11: 0.4, 13: 0.3}\n",
      "SOY REACHABLE\n",
      "[10]\n",
      "HOLA SOY EL MINIMO\n",
      "(0.5, 10)\n",
      "(True, 2, [10, 14], 5.0)\n"
     ]
    }
   ],
   "source": [
    "print(refill_prices(10, [10, 11, 13, 14], [0.5, 0.4, 0.3]))"
   ]
  },
  {
   "cell_type": "code",
   "execution_count": 6,
   "metadata": {},
   "outputs": [
    {
     "name": "stdout",
     "output_type": "stream",
     "text": [
      "{8: 0.9, 14: 1.2, 16: 0.6, 18: 1.2, 23: 2.1, 27: 1.7}\n",
      "SOY REACHABLE\n",
      "[8]\n",
      "HOLA SOY EL MINIMO\n",
      "(0.9, 8)\n",
      "SOY REACHABLE\n",
      "[14, 16, 18]\n",
      "HOLA SOY EL MINIMO\n",
      "(0.6, 16)\n",
      "SOY REACHABLE\n",
      "[18, 23]\n",
      "HOLA SOY EL MINIMO\n",
      "(1.2, 18)\n",
      "SOY REACHABLE\n",
      "[23, 27]\n",
      "HOLA SOY EL MINIMO\n",
      "(1.7, 27)\n",
      "(True, 5, [8, 16, 18, 27, 30], 44.0)\n"
     ]
    }
   ],
   "source": [
    "print(refill_prices(10, [8, 14, 16, 18, 23, 27, 30], [0.9, 1.2, 0.6, 1.2, 2.1, 1.7]))"
   ]
  },
  {
   "cell_type": "markdown",
   "metadata": {},
   "source": [
    "<div class=\"alert alert-success\">\n",
    "    <h1>Problema 2: Repostatge de vehicles (Òptim) (2p)</h1>\n",
    "    <p>\n",
    "       Modifiqueu l'algorisme anterior per a que la solució sigui òptima. <br>\n",
    "       En aquest cas, només haureu d'omplir el dipòsit amb els litres necessaris per a arribar a la benzinera més propera amb un cost inferior a la que estem actualment. <br>\n",
    "       Comproveu que la solució que obteniu amb aquest algorisme és inferior a la solució del Problema 1.\n",
    "    </p>    \n",
    "   \n",
    "</div>"
   ]
  },
  {
   "cell_type": "markdown",
   "metadata": {},
   "source": [
    "Exemple:<br>\n",
    "       Suposem que tenim benzineres als punts 10, 11, 13, el destí està al punt 14 i els preus són 0.5, 0.4, 0.3 respectivament. La capacitat del cotxe és de 10L.<br>\n",
    "       <ol>\n",
    "           <li> Comprovem quines benzineres són assolibles: Només podem arribar a la benzinera del km.10 que té cost 0.5€/L.\n",
    "           <li> Abans de decidir quants litres omplim, mirem a quines benzineres podríem arribar. Podríem arribar al km.11, al km.13 i al km.14 (destinació).\n",
    "           <li> Com que la benzinera del km.11 val 0.4€/L i 0.4<0.5, només omplim amb els litres necessaris per arribar a aquesta benzinera (1L).\n",
    "           <li> Ens movem a aquesta benzinera i repetim el procés.                                                    \n",
    "       </ol>"
   ]
  },
  {
   "cell_type": "code",
   "execution_count": null,
   "metadata": {},
   "outputs": [],
   "source": [
    "def refill_prices_optim(K, stations, prices):\n",
    "    \"\"\"\n",
    "    Repostatge òptim de vehicles amb costos. \n",
    "    \n",
    "    Params\n",
    "    ======\n",
    "    :K: dipòsit del vehicle\n",
    "    :stations: llista de benzineres. L'últim element és el destí.\n",
    "    :prices: Llista de preus. Té un element menys que 'stations'.\n",
    "    \n",
    "    Returns\n",
    "    =======\n",
    "    :exists: Booleà True/False depenent de si existeix o no solució al problema.\n",
    "    :num_stops: Número de benzineres a les que hem de parar.\n",
    "    :stops: Quilòmetres de les benzineres on fem parada.\n",
    "    :value: Cost del trajecte.\n",
    "    \"\"\"\n",
    "    \n",
    "    exists = False    \n",
    "    stops = []\n",
    "    num_stops = len(stops)\n",
    "    value = 0.0\n",
    "    \n",
    "    return exists, num_stops, stops, value\n",
    "        "
   ]
  },
  {
   "cell_type": "code",
   "execution_count": null,
   "metadata": {},
   "outputs": [],
   "source": [
    "print(refill_prices_optim(10, [10, 11, 13, 14], [0.5, 0.4, 0.3]))"
   ]
  },
  {
   "cell_type": "code",
   "execution_count": null,
   "metadata": {},
   "outputs": [],
   "source": [
    "print(refill_prices_optim(10, [8, 14, 16, 18, 23, 27, 30], [0.9, 1.2, 0.6, 1.2, 2.1, 1.7]))"
   ]
  },
  {
   "cell_type": "markdown",
   "metadata": {},
   "source": [
    "<div class=\"alert alert-success\">\n",
    "    <h1>Problema 3: Un alfabet estrany (5p)</h1>\n",
    "    <p>\n",
    "        Volem enviar missatges utilitzant el mínim d'espai possible utilitzant una codificació de dos caràcters '.' i '-'. Per fer-ho hem de traduïr cada lletra de l'alfabet català a aquesta representació. <br>\n",
    "        Per exemple, podem assignar que la lletra A correspon a l'string '.', la lletra B a l'string '.-' i la lletra C a l'string '--'. Així, la paraula ABC ens quedaria codificada com '..---'.<br><br>\n",
    "        Per a que la codificació sigui bona i reversible, és a dir, que siguem capaços de desxifrar-la, és important que els strings de codificació que triem no portin a errors.<br>\n",
    "        Per exemple, si codifiquem A='.', B='-.', C='.-' i tenim l'string '.-..-', aquest pot representar tant la paraula ABC com la paraula CAC i, per tant, no és una bona codificació.\n",
    "        Seguiu els següents passos per a implementar la solució:\n",
    "    </p>  \n",
    "    <h2>3.1 Trobar la codificació</h2>\n",
    "    <ol>\n",
    "        <li>Implementeu una funció <code>compute_frequency</code> que calculi la freqüència de cada lletra, és a dir, el nombre de cops que apareix a dins l'string.   \n",
    "        <li>Ara crearem un arbre binari per emmagatzemar els nodes. Utilitza la classe <code>Node</code> seguint les indicacions:\n",
    "        <ol>\n",
    "            <li>Inicialitza una llista <code>nodes_list</code> on cada lletra sigui un node i tingui com a valor, el càlcul de freqüència del primer apartat.\n",
    "            <li>Mentre la llista tingui dos nodes com a mínim, extreu de la llista els dos nodes amb la frequencia més petita i guarda'ls a l'arbre assignant-els-hi el mateix pare. \n",
    "            <li>Assigna el caràcter '.' al node de la dreta i el caràcter '-' al node de l'esquerra.\n",
    "            <li>Guarda el node pare a <code>nodes_list</code> assignant-li com a valor de freqüència la suma dels seus dos fills.\n",
    "            <li>Torna al punt B.\n",
    "        </ol>\n",
    "        <img src=\"img/graph.png\" width='25%'></img><br>\n",
    "        <li>Assigna un codi a cada fulla de l'arbre de la forma següent: sempre que descendeixis a un node de la dreta utilitza el caràcter '.' i al descendir al node de l'esquerra utilitza el caràcter '-'.\n",
    "        <li>Retorna aquesta assignació com a diccionari.\n",
    "    </ol>\n",
    "    <h2>3.2 Codificar i decodificar</h2>\n",
    "    <ol>\n",
    "        <li>Crea una funció <code>encode</code> que utilitzi el diccionari retornat anteriorment per a codificar un text d'entrada\n",
    "        <li>Crea una funció <code>decode</code> que utilitzi el diccionari retornat anteriorment per a decodificar un text d'entrada\n",
    "        <li>Executa la funció <code>alphabet</code> i comprova que el resultat sigui l'esperat.\n",
    "    </ol>\n",
    "    \n",
    "</div>"
   ]
  },
  {
   "cell_type": "markdown",
   "metadata": {},
   "source": [
    "Exemple d'execució:\n",
    "\n",
    "- Text a codificar: ABABAC\n",
    "- Diccionari de freqüències: {'A': 3, 'B': 2, 'C': 1}\n",
    "- Diccionari de conversió: {'C': '--', 'B': '-.', 'A': '.'}\n",
    "- Codificat: .-..-..--\n",
    "- Decodificat: ABABAC"
   ]
  },
  {
   "cell_type": "code",
   "execution_count": null,
   "metadata": {},
   "outputs": [],
   "source": [
    "from collections import defaultdict\n",
    "\n",
    "def compute_frequency(text):\n",
    "    \"\"\"\n",
    "    Params\n",
    "    ======\n",
    "    :text: El text que volem codificar\n",
    "    \n",
    "    Returns\n",
    "    =======\n",
    "    :dct: Un diccionari amb el nombre de cops que apareix cada simbol en el text d'entrada. Per exemple: {'A': 3, 'B': 2, 'C': 1}\n",
    "    \"\"\"\n",
    "    \n",
    "    dct = {}\n",
    "    return dct"
   ]
  },
  {
   "cell_type": "code",
   "execution_count": null,
   "metadata": {},
   "outputs": [],
   "source": [
    "class Node:\n",
    "    \"\"\"\n",
    "    Aquesta classe emmagatzema la informació dels nodes de l'arbre binari.\n",
    "    \"\"\"\n",
    "    def __init__(self, node, value, left=None, right=None):\n",
    "        self.node = node    # String que representa el node\n",
    "        self.value = value  # Valor de freqüència\n",
    "        self.left = left    # Node de l'esquerra\n",
    "        self.right = right  # Node de la dreta\n",
    "        self.code = ''      # Codificació del node\n",
    "\n",
    "    def set_code(self, code):\n",
    "        self.code = code\n",
    "\n",
    "    def __repr__(self):\n",
    "        return f\"Node({self.node},{self.value},{self.code})\""
   ]
  },
  {
   "cell_type": "code",
   "execution_count": null,
   "metadata": {},
   "outputs": [],
   "source": [
    "def assign_codes(text, counts):   \n",
    "    \"\"\"\n",
    "    Aquesta funció construeix el diccionari de conversió de lletres a símbols '.' i '-'.\n",
    "    \n",
    "    Params\n",
    "    ======\n",
    "    :text: El text que volem convertir\n",
    "    :counts: El diccionari de freqüències que ens retorna la funció compute_frequency\n",
    "    \n",
    "    Returns\n",
    "    =======\n",
    "    :codes: El diccionari de conversió. Per exemple: {'C': '--', 'B': '-.', 'A': '.'}\n",
    "    \"\"\"\n",
    "    \n",
    "    codes = {}\n",
    "    return codes"
   ]
  },
  {
   "cell_type": "code",
   "execution_count": null,
   "metadata": {},
   "outputs": [],
   "source": [
    "def encode(text, diccionari):\n",
    "    \"\"\"\n",
    "    Donat un text a codificar i un diccionari de conversió, codifica el text.\n",
    "    \n",
    "    Params\n",
    "    ======\n",
    "    :text: El text que volem codificar\n",
    "    :diccionari: El diccionari de conversió que farem servir\n",
    "    \n",
    "    Returns\n",
    "    =======\n",
    "    :code: Una representació del text usant només els caràcters '.' i '-'\n",
    "    \"\"\"\n",
    "    \n",
    "    return \"\""
   ]
  },
  {
   "cell_type": "code",
   "execution_count": null,
   "metadata": {},
   "outputs": [],
   "source": [
    "def decode(text, diccionari):\n",
    "    \"\"\"\n",
    "    Donat un text a decodificar i un diccionari de conversió, decodifica el text.\n",
    "    \n",
    "    Params\n",
    "    ======\n",
    "    :text: El text que volem decodificar (caràcters '.' i '-')\n",
    "    :diccionari: El diccionari de conversió que hem fet servir per codificar\n",
    "    \n",
    "    Returns\n",
    "    =======\n",
    "    :code: El text resultant de la decodificació.\n",
    "    \"\"\"\n",
    "    \n",
    "    return \"\""
   ]
  },
  {
   "cell_type": "code",
   "execution_count": null,
   "metadata": {},
   "outputs": [],
   "source": [
    "def alphabet(text):\n",
    "    \"\"\"\n",
    "    Funció per comprovar que el codi s'executa correctament. No modifiqueu aquesta funció.\n",
    "    \n",
    "    Params\n",
    "    ======\n",
    "    :text: Missatge que volem fer servir per provar les funcions.\n",
    "    \"\"\"\n",
    "    \n",
    "    print(\"Text a codificar:\", text)\n",
    "    \n",
    "    counts = compute_frequency(text)\n",
    "    print(\"Diccionari de freqüències:\", counts)\n",
    "    \n",
    "    codes = assign_codes(text, counts)\n",
    "    print(\"Diccionari de conversió:\", codes)\n",
    "    \n",
    "    codi = encode(text, codes)\n",
    "    print(\"Codificat:\", codi)\n",
    "    print(\"Decodificat:\", decode(codi, codes))"
   ]
  },
  {
   "cell_type": "code",
   "execution_count": null,
   "metadata": {},
   "outputs": [],
   "source": [
    "# text_a_codificar = \"ABBCACCCDBAAABCAACCCB\"\n",
    "text_a_codificar = \"ABABAC\"\n",
    "alphabet(text_a_codificar)"
   ]
  },
  {
   "cell_type": "markdown",
   "metadata": {},
   "source": [
    "<div class=\"alert alert-info\">\n",
    "<center>\n",
    "  <h1>Entrega</h1>\n",
    "</center>\n",
    "\n",
    "<p>\n",
    "L'entrega es farà a través del campus virtual. Teniu fins el dia <b>9 de Novembre a les 23:59</b> per entregar la pràctica. A la tasca que obrirem al campus, només heu d'entregar aquest fitxer .ipynb (No entregueu maze.py ni cap altre fitxer extra). El notebook ha de tenir com a nom:\n",
    "</p>\n",
    "<p>\n",
    "    <code>Grup_Cognom1_Nom1_Grup_Cognom2_Nom2_Greedy.ipynb</code>\n",
    "</p>\n",
    "On 'Grup' és una sola lletra que identifica el <b>grup de laboratori</b> on esteu matriculats (A, B, C, D, E, F). <b>Només ha d'entregar un dels dos membres de la parella.</b>\n",
    "\n",
    "És imprescindible que respecteu el format de les funcions i que el vostre codi estigui degudament comentat.<br><br>\n",
    "</div>"
   ]
  },
  {
   "cell_type": "code",
   "execution_count": null,
   "metadata": {},
   "outputs": [],
   "source": []
  }
 ],
 "metadata": {
  "kernelspec": {
   "display_name": "Python 3 (ipykernel)",
   "language": "python",
   "name": "python3"
  },
  "language_info": {
   "codemirror_mode": {
    "name": "ipython",
    "version": 3
   },
   "file_extension": ".py",
   "mimetype": "text/x-python",
   "name": "python",
   "nbconvert_exporter": "python",
   "pygments_lexer": "ipython3",
   "version": "3.12.3"
  }
 },
 "nbformat": 4,
 "nbformat_minor": 4
}
